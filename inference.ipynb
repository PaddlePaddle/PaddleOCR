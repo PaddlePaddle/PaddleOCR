{
 "cells": [
  {
   "cell_type": "markdown",
   "id": "eb95fa70-4e05-40de-b927-53b49add698b",
   "metadata": {},
   "source": [
    "# Inference\n",
    "\n",
    "- 验证模型可用性\n",
    "- 验证推理可用性"
   ]
  },
  {
   "cell_type": "code",
   "execution_count": 2,
   "id": "40d5ee11-d6c4-4c59-9499-19b7a93b654b",
   "metadata": {},
   "outputs": [
    {
     "name": "stdout",
     "output_type": "stream",
     "text": [
      "Running verify PaddlePaddle program ... \n",
      "PaddlePaddle works well on 1 CPU.\n",
      "PaddlePaddle is installed successfully! Let's start deep learning with PaddlePaddle now.\n"
     ]
    }
   ],
   "source": [
    "import paddle\n",
    "paddle.utils.run_check()"
   ]
  },
  {
   "cell_type": "code",
   "execution_count": 4,
   "id": "102dab61-04f4-4fea-857c-94d47ad81074",
   "metadata": {},
   "outputs": [
    {
     "name": "stdout",
     "output_type": "stream",
     "text": [
      "--2025-02-15 07:50:42--  https://paddle-inference-dist.bj.bcebos.com/Paddle-Inference-Demo/resnet50.tgz\n",
      "112.46.2.169, 2409:8c04:1001:1203:0:ff:b0bb:4f27addle-inference-dist.bj.bcebos.com)... \n",
      "Connecting to paddle-inference-dist.bj.bcebos.com (paddle-inference-dist.bj.bcebos.com)|112.46.2.169|:443... connected.\n",
      "HTTP request sent, awaiting response... 200 OK\n",
      "Length: 95119015 (91M) [application/x-gzip]\n",
      "Saving to: ‘resnet50.tgz’\n",
      "\n",
      "resnet50.tgz        100%[===================>]  90.71M  9.28MB/s    in 12s     \n",
      "\n",
      "2025-02-15 07:50:55 (7.39 MB/s) - ‘resnet50.tgz’ saved [95119015/95119015]\n",
      "\n"
     ]
    }
   ],
   "source": [
    "!wget https://paddle-inference-dist.bj.bcebos.com/Paddle-Inference-Demo/resnet50.tgz\n",
    "!tar zxf resnet50.tgz"
   ]
  },
  {
   "cell_type": "code",
   "execution_count": 6,
   "id": "264c5f2c-842d-4ba0-9f3d-770933abb674",
   "metadata": {
    "scrolled": true
   },
   "outputs": [
    {
     "name": "stdout",
     "output_type": "stream",
     "text": [
      "I0215 07:52:17.322966   206 analysis_predictor.cc:1626] MKLDNN is enabled\n",
      "\u001b[1m\u001b[35m--- Running analysis [ir_graph_build_pass]\u001b[0m\n",
      "I0215 07:52:17.331645   206 executor.cc:187] Old Executor is Running.\n",
      "\u001b[1m\u001b[35m--- Running analysis [ir_analysis_pass]\u001b[0m\n",
      "\u001b[32m--- Running IR pass [mkldnn_placement_pass]\u001b[0m\n",
      "\u001b[32m--- Running IR pass [simplify_with_basic_ops_pass]\u001b[0m\n",
      "\u001b[32m--- Running IR pass [layer_norm_fuse_pass]\u001b[0m\n",
      "\u001b[32m--- Running IR pass [attention_lstm_fuse_pass]\u001b[0m\n",
      "\u001b[32m--- Running IR pass [seqconv_eltadd_relu_fuse_pass]\u001b[0m\n",
      "\u001b[32m--- Running IR pass [seqpool_cvm_concat_fuse_pass]\u001b[0m\n",
      "\u001b[32m--- Running IR pass [mul_lstm_fuse_pass]\u001b[0m\n",
      "\u001b[32m--- Running IR pass [fc_gru_fuse_pass]\u001b[0m\n",
      "\u001b[32m--- Running IR pass [mul_gru_fuse_pass]\u001b[0m\n",
      "\u001b[32m--- Running IR pass [seq_concat_fc_fuse_pass]\u001b[0m\n",
      "\u001b[32m--- Running IR pass [gpu_cpu_squeeze2_matmul_fuse_pass]\u001b[0m\n",
      "\u001b[32m--- Running IR pass [gpu_cpu_reshape2_matmul_fuse_pass]\u001b[0m\n",
      "I0215 07:52:17.427011   206 fuse_pass_base.cc:59] ---  detected 1 subgraphs\n",
      "\u001b[32m--- Running IR pass [gpu_cpu_flatten2_matmul_fuse_pass]\u001b[0m\n",
      "\u001b[32m--- Running IR pass [matmul_v2_scale_fuse_pass]\u001b[0m\n",
      "\u001b[32m--- Running IR pass [gpu_cpu_map_matmul_v2_to_mul_pass]\u001b[0m\n",
      "\u001b[32m--- Running IR pass [gpu_cpu_map_matmul_v2_to_matmul_pass]\u001b[0m\n",
      "\u001b[32m--- Running IR pass [matmul_scale_fuse_pass]\u001b[0m\n",
      "\u001b[32m--- Running IR pass [gpu_cpu_map_matmul_to_mul_pass]\u001b[0m\n",
      "\u001b[32m--- Running IR pass [fc_fuse_pass]\u001b[0m\n",
      "I0215 07:52:17.434800   206 fuse_pass_base.cc:59] ---  detected 1 subgraphs\n",
      "\u001b[32m--- Running IR pass [repeated_fc_relu_fuse_pass]\u001b[0m\n",
      "\u001b[32m--- Running IR pass [squared_mat_sub_fuse_pass]\u001b[0m\n",
      "\u001b[32m--- Running IR pass [conv_bn_fuse_pass]\u001b[0m\n",
      "I0215 07:52:17.509771   206 fuse_pass_base.cc:59] ---  detected 53 subgraphs\n",
      "\u001b[32m--- Running IR pass [conv_eltwiseadd_bn_fuse_pass]\u001b[0m\n",
      "\u001b[32m--- Running IR pass [conv_transpose_bn_fuse_pass]\u001b[0m\n",
      "\u001b[32m--- Running IR pass [conv_transpose_eltwiseadd_bn_fuse_pass]\u001b[0m\n",
      "\u001b[32m--- Running IR pass [is_test_pass]\u001b[0m\n",
      "\u001b[32m--- Running IR pass [constant_folding_pass]\u001b[0m\n",
      "\u001b[32m--- Running IR pass [squeeze2_transpose2_onednn_fuse_pass]\u001b[0m\n",
      "\u001b[37m--- fused 0 squeeze2 with transpose2\u001b[0m\n",
      "\u001b[32m--- Running IR pass [depthwise_conv_mkldnn_pass]\u001b[0m\n",
      "\u001b[32m--- Running IR pass [conv_bn_fuse_pass]\u001b[0m\n",
      "\u001b[32m--- Running IR pass [conv_eltwiseadd_bn_fuse_pass]\u001b[0m\n",
      "\u001b[32m--- Running IR pass [conv_affine_channel_mkldnn_fuse_pass]\u001b[0m\n",
      "\u001b[32m--- Running IR pass [conv_transpose_bn_fuse_pass]\u001b[0m\n",
      "\u001b[32m--- Running IR pass [conv_transpose_eltwiseadd_bn_fuse_pass]\u001b[0m\n",
      "\u001b[32m--- Running IR pass [conv_bias_mkldnn_fuse_pass]\u001b[0m\n",
      "\u001b[32m--- Running IR pass [conv_transpose_bias_mkldnn_fuse_pass]\u001b[0m\n",
      "\u001b[32m--- Running IR pass [conv_elementwise_add_mkldnn_fuse_pass]\u001b[0m\n",
      "\u001b[37m---    Fused 4 projection conv (as y) + elementwise_add patterns\u001b[0m\n",
      "\u001b[37m---    Fused 12 conv (as y) + elementwise_add patterns\u001b[0m\n",
      "I0215 07:52:17.553171   206 fuse_pass_base.cc:59] ---  detected 16 subgraphs\n",
      "\u001b[32m--- Running IR pass [conv_activation_mkldnn_fuse_pass]\u001b[0m\n",
      "I0215 07:52:17.563515   206 fuse_pass_base.cc:59] ---  detected 49 subgraphs\n",
      "\u001b[37m---    fused 49 fused_conv2d with relu activation\u001b[0m\n",
      "\u001b[32m--- Running IR pass [scale_matmul_fuse_pass]\u001b[0m\n",
      "\u001b[32m--- Running IR pass [reshape_transpose_matmul_mkldnn_fuse_pass]\u001b[0m\n",
      "\u001b[32m--- Running IR pass [matmul_transpose_reshape_mkldnn_fuse_pass]\u001b[0m\n",
      "\u001b[32m--- Running IR pass [matmul_elementwise_add_mkldnn_fuse_pass]\u001b[0m\n",
      "\u001b[32m--- Running IR pass [matmul_activation_mkldnn_fuse_pass]\u001b[0m\n",
      "\u001b[32m--- Running IR pass [fc_mkldnn_pass]\u001b[0m\n",
      "I0215 07:52:17.570991   206 fuse_pass_base.cc:59] ---  detected 1 subgraphs\n",
      "\u001b[37m---    enabled FC MKL-DNN for 1 fc ops \u001b[0m\n",
      "\u001b[32m--- Running IR pass [fc_act_mkldnn_fuse_pass]\u001b[0m\n",
      "\u001b[32m--- Running IR pass [self_attention_fuse_pass]\u001b[0m\n",
      "\u001b[37m---    fused 0 self attention (of scaled_dp_attention) with self_attention_fuse\u001b[0m\n",
      "\u001b[32m--- Running IR pass [batch_norm_act_fuse_pass]\u001b[0m\n",
      "\u001b[32m--- Running IR pass [softplus_activation_onednn_fuse_pass]\u001b[0m\n",
      "\u001b[32m--- Running IR pass [shuffle_channel_mkldnn_detect_pass]\u001b[0m\n",
      "\u001b[32m--- Running IR pass [elementwise_act_onednn_fuse_pass]\u001b[0m\n",
      "\u001b[32m--- Running IR pass [operator_scale_onednn_fuse_pass]\u001b[0m\n",
      "\u001b[32m--- Running IR pass [operator_unsqueeze2_onednn_fuse_pass]\u001b[0m\n",
      "\u001b[32m--- Running IR pass [operator_reshape2_onednn_fuse_pass]\u001b[0m\n",
      "\u001b[1m\u001b[35m--- Running analysis [save_optimized_model_pass]\u001b[0m\n",
      "\u001b[1m\u001b[35m--- Running analysis [ir_params_sync_among_devices_pass]\u001b[0m\n",
      "\u001b[1m\u001b[35m--- Running analysis [adjust_cudnn_workspace_size_pass]\u001b[0m\n",
      "\u001b[1m\u001b[35m--- Running analysis [inference_op_replace_pass]\u001b[0m\n",
      "\u001b[1m\u001b[35m--- Running analysis [ir_graph_to_program_pass]\u001b[0m\n",
      "I0215 07:52:17.622026   206 analysis_predictor.cc:1838] ======= optimize end =======\n",
      "I0215 07:52:17.624924   206 naive_executor.cc:200] ---  skip [feed], feed -> inputs\n",
      "I0215 07:52:17.625902   206 naive_executor.cc:200] ---  skip [save_infer_model/scale_0.tmp_1], fetch -> fetch\n",
      "I0215 07:52:17.645521   206 onednn_context.cc:81] oneDNN v3.2.1\n",
      "Output data size is 2000\n",
      "Output data shape is (2, 1000)\n"
     ]
    }
   ],
   "source": [
    "!python demo.py --model_file ./resnet50/inference.pdmodel --params_file ./resnet50/inference.pdiparams --batch_size 2"
   ]
  },
  {
   "cell_type": "code",
   "execution_count": null,
   "id": "6aa6b5eb-c9a2-4d71-a8e0-3f93775658d9",
   "metadata": {},
   "outputs": [],
   "source": []
  }
 ],
 "metadata": {
  "kernelspec": {
   "display_name": "Python 3 (ipykernel)",
   "language": "python",
   "name": "python3"
  },
  "language_info": {
   "codemirror_mode": {
    "name": "ipython",
    "version": 3
   },
   "file_extension": ".py",
   "mimetype": "text/x-python",
   "name": "python",
   "nbconvert_exporter": "python",
   "pygments_lexer": "ipython3",
   "version": "3.10.13"
  }
 },
 "nbformat": 4,
 "nbformat_minor": 5
}
