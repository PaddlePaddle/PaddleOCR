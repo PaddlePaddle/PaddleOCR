{
 "cells": [
  {
   "cell_type": "markdown",
   "id": "7ecb6285-8d2f-4898-aff3-53800660fb9f",
   "metadata": {},
   "source": [
    "# Meter Training\n",
    "\n",
    "view dataset"
   ]
  },
  {
   "cell_type": "code",
   "execution_count": 1,
   "id": "4255570a-4c14-4df5-b7e2-95355fdd9af3",
   "metadata": {},
   "outputs": [],
   "source": [
    "import matplotlib.pyplot as plt"
   ]
  },
  {
   "cell_type": "code",
   "execution_count": 2,
   "id": "fcd5642c-ea25-4caa-9c35-6c941df8d175",
   "metadata": {},
   "outputs": [],
   "source": [
    "img = plt.imread('atrain_script/images/cropped2.jpg')"
   ]
  },
  {
   "cell_type": "code",
   "execution_count": 3,
   "id": "92f75eb2-7225-4554-af61-21856a167996",
   "metadata": {},
   "outputs": [
    {
     "name": "stdout",
     "output_type": "stream",
     "text": [
      "(33, 195, 3)\n"
     ]
    }
   ],
   "source": [
    "print(img.shape)"
   ]
  },
  {
   "cell_type": "code",
   "execution_count": 4,
   "id": "8af1beb8-a1e3-4b0c-b9ef-960ce1c3ba03",
   "metadata": {},
   "outputs": [],
   "source": [
    "import os\n",
    "\n",
    "folder = './train_data'\n",
    "img_path = 'rec/train/000000.png'\n",
    "\n",
    "img = plt.imread(os.path.join(folder, img_path))"
   ]
  },
  {
   "cell_type": "code",
   "execution_count": 5,
   "id": "9717d8b6-857b-4ec0-ae99-bc37dd0e6c0c",
   "metadata": {},
   "outputs": [
    {
     "data": {
      "text/plain": [
       "(32, 300, 3)"
      ]
     },
     "execution_count": 5,
     "metadata": {},
     "output_type": "execute_result"
    }
   ],
   "source": [
    "img.shape"
   ]
  },
  {
   "cell_type": "code",
   "execution_count": null,
   "id": "136d9279-777d-4829-ad68-f599c7467579",
   "metadata": {},
   "outputs": [],
   "source": []
  }
 ],
 "metadata": {
  "kernelspec": {
   "display_name": "Python 3 (ipykernel)",
   "language": "python",
   "name": "python3"
  },
  "language_info": {
   "codemirror_mode": {
    "name": "ipython",
    "version": 3
   },
   "file_extension": ".py",
   "mimetype": "text/x-python",
   "name": "python",
   "nbconvert_exporter": "python",
   "pygments_lexer": "ipython3",
   "version": "3.8.10"
  }
 },
 "nbformat": 4,
 "nbformat_minor": 5
}
