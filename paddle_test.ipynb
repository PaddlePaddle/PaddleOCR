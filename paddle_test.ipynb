{
 "cells": [
  {
   "cell_type": "code",
   "execution_count": 1,
   "id": "d7c8d152-0fc1-408d-a149-ce6177f1d4cf",
   "metadata": {},
   "outputs": [],
   "source": [
    "import paddleocr\n",
    "import requests\n",
    "import numpy as np\n",
    "import re\n",
    "import hashlib\n",
    "import cv2"
   ]
  },
  {
   "cell_type": "code",
   "execution_count": 34,
   "id": "cf14be1f-d970-4550-b1ab-c427d93b8e5b",
   "metadata": {},
   "outputs": [
    {
     "name": "stdout",
     "output_type": "stream",
     "text": [
      "[2021/09/07 02:39:20] root WARNING: lang en is not support in 2.1, use 2.0 instead\n",
      "[2021/09/07 02:39:20] root WARNING: lang en is not support in 2.1, use 2.0 instead\n",
      "[2021/09/07 02:39:20] root WARNING: version 2.1 not support cls models, use version 2.0 instead\n",
      "Namespace(benchmark=False, cls_batch_num=6, cls_image_shape='3, 48, 192', cls_model_dir='/home/sefa/.paddleocr/2.2.1/ocr/cls/ch_ppocr_mobile_v2.0_cls_infer', cls_thresh=0.9, cpu_threads=10, det=True, det_algorithm='DB', det_db_box_thresh=0.6, det_db_score_mode='fast', det_db_thresh=0.3, det_db_unclip_ratio=1.5, det_east_cover_thresh=0.1, det_east_nms_thresh=0.2, det_east_score_thresh=0.8, det_limit_side_len=960, det_limit_type='max', det_model_dir='/home/sefa/.paddleocr/2.2.1/ocr/det/en/en_ppocr_mobile_v2.0_det_infer', det_sast_nms_thresh=0.2, det_sast_polygon=False, det_sast_score_thresh=0.5, drop_score=0.5, e2e_algorithm='PGNet', e2e_char_dict_path='./ppocr/utils/ic15_dict.txt', e2e_limit_side_len=768, e2e_limit_type='max', e2e_model_dir=None, e2e_pgnet_mode='fast', e2e_pgnet_polygon=True, e2e_pgnet_score_thresh=0.5, e2e_pgnet_valid_set='totaltext', enable_mkldnn=True, gpu_mem=500, help='==SUPPRESS==', image_dir=None, ir_optim=True, label_list=['0', '180'], lang='en', layout_path_model='lp://PubLayNet/ppyolov2_r50vd_dcn_365e_publaynet/config', max_batch_size=10, max_text_length=25, min_subgraph_size=15, output='./output/table', precision='fp32', process_id=0, rec=True, rec_algorithm='CRNN', rec_batch_num=6, rec_char_dict_path='/home/sefa/Documents/ebrandvalue/research-cases/PaddleOCR/ppocr/utils/en_dict.txt', rec_char_type='ch', rec_image_shape='3, 32, 320', rec_model_dir='/home/sefa/.paddleocr/2.2.1/ocr/rec/en/en_number_mobile_v2.0_rec_infer', save_log_path='./log_output/', show_log=True, table_char_dict_path=None, table_char_type='en', table_max_len=488, table_model_dir=None, total_process_num=1, type='ocr', use_angle_cls=True, use_dilation=True, use_gpu=False, use_mp=False, use_pdserving=False, use_space_char=True, use_tensorrt=True, version='2.1', vis_font_path='./doc/fonts/simfang.ttf', warmup=True)\n",
      "[2021/09/07 02:39:21] root WARNING: lang en is not support in 2.1, use 2.0 instead\n",
      "[2021/09/07 02:39:21] root WARNING: lang cyrillic is not support in 2.1, use 2.0 instead\n",
      "[2021/09/07 02:39:21] root WARNING: version 2.1 not support cls models, use version 2.0 instead\n",
      "Namespace(benchmark=False, cls_batch_num=6, cls_image_shape='3, 48, 192', cls_model_dir='/home/sefa/.paddleocr/2.2.1/ocr/cls/ch_ppocr_mobile_v2.0_cls_infer', cls_thresh=0.9, cpu_threads=10, det=True, det_algorithm='DB', det_db_box_thresh=0.6, det_db_score_mode='fast', det_db_thresh=0.3, det_db_unclip_ratio=1.5, det_east_cover_thresh=0.1, det_east_nms_thresh=0.2, det_east_score_thresh=0.8, det_limit_side_len=960, det_limit_type='max', det_model_dir='/home/sefa/.paddleocr/2.2.1/ocr/det/en/en_ppocr_mobile_v2.0_det_infer', det_sast_nms_thresh=0.2, det_sast_polygon=False, det_sast_score_thresh=0.5, drop_score=0.5, e2e_algorithm='PGNet', e2e_char_dict_path='./ppocr/utils/ic15_dict.txt', e2e_limit_side_len=768, e2e_limit_type='max', e2e_model_dir=None, e2e_pgnet_mode='fast', e2e_pgnet_polygon=True, e2e_pgnet_score_thresh=0.5, e2e_pgnet_valid_set='totaltext', enable_mkldnn=True, gpu_mem=500, help='==SUPPRESS==', image_dir=None, ir_optim=True, label_list=['0', '180'], lang='ru', layout_path_model='lp://PubLayNet/ppyolov2_r50vd_dcn_365e_publaynet/config', max_batch_size=10, max_text_length=25, min_subgraph_size=15, output='./output/table', precision='fp32', process_id=0, rec=True, rec_algorithm='CRNN', rec_batch_num=6, rec_char_dict_path='/home/sefa/Documents/ebrandvalue/research-cases/PaddleOCR/ppocr/utils/dict/cyrillic_dict.txt', rec_char_type='ch', rec_image_shape='3, 32, 320', rec_model_dir='/home/sefa/.paddleocr/2.2.1/ocr/rec/cyrillic/cyrillic_ppocr_mobile_v2.0_rec_infer', save_log_path='./log_output/', show_log=True, table_char_dict_path=None, table_char_type='en', table_max_len=488, table_model_dir=None, total_process_num=1, type='ocr', use_angle_cls=True, use_dilation=True, use_gpu=False, use_mp=False, use_pdserving=False, use_space_char=True, use_tensorrt=True, version='2.1', vis_font_path='./doc/fonts/simfang.ttf', warmup=True)\n"
     ]
    }
   ],
   "source": [
    "paddle_dict = {}\n",
    "paddle_dict[\"en\"] = paddleocr.PaddleOCR(lang='en', use_gpu=False, use_angle_cls=True, use_dilation=True, use_tensorrt=True, enable_mkldnn=True)\n",
    "paddle_dict[\"ru\"] = paddleocr.PaddleOCR(lang='ru', use_gpu=False, use_angle_cls=True, use_dilation=True, use_tensorrt=True, enable_mkldnn=True)"
   ]
  },
  {
   "cell_type": "code",
   "execution_count": 35,
   "id": "e9573923-a2f8-473a-8a35-4c82c604f3e6",
   "metadata": {},
   "outputs": [],
   "source": [
    "IMAGE_SIZE_THRESHOLD = 1300"
   ]
  },
  {
   "cell_type": "code",
   "execution_count": 53,
   "id": "e9e909d5-29e2-4a10-af80-d03822cc710c",
   "metadata": {},
   "outputs": [],
   "source": [
    "def read_from_image(image_path):\n",
    "    langs = list(paddle_dict.keys()) # the languages in the dict are English, Russian and Arabic, i.e., ['en', 'ru', 'ar']\n",
    "    recog = {}\n",
    "    # --------------------------------------------------------------------------------------------------------------\n",
    "    '''\n",
    "    box_solution_equality function has the word and score as solution for the language that will correspond\n",
    "    to our bounding box.\n",
    "    solution[0] : bounding boxes --> [[x1, y1], [x2, y2], [x3, y3], [x4, y4]]\n",
    "    solution[1] : predicted word and score in tuple format.\n",
    "    if solution[0] equal to our 'box' variable, it returns us solution[1], so the word and the score.\n",
    "    '''\n",
    "    def box_solution_equality(box, recog_lang):\n",
    "        for solution in recog_lang:\n",
    "            if str(box) == str(solution[0]):\n",
    "                return solution[1]\n",
    "        return ('', 0)\n",
    "    # --------------------------------------------------------------------------------------------------------------\n",
    "    '''\n",
    "    check_max_length_lang function determines the total number of words for each language. Returns the language\n",
    "    Whichever has the highest number of words\n",
    "    '''  \n",
    "    def check_max_length_lang(recog):\n",
    "        len_list = []\n",
    "        langu = list(recog.keys()) # ['en', 'ru', 'ar']\n",
    "        for lang in langu:\n",
    "            len_list.append(len([i[1][0] for i in recog[lang]])) # total word number of the language\n",
    "        if len(len_list) == 1:\n",
    "            print(f\"detected only {langu[0]} language\")\n",
    "            return langu[0]\n",
    "        else:\n",
    "            language_lenths_arr = np.array(len_list)\n",
    "            \n",
    "            first_max_lang_length = np.max(language_lenths_arr)\n",
    "            first_max_lang_length_index = language_lenths_arr.argmax()\n",
    "            \n",
    "            language_lenths_arr[first_max_lang_length_index] = 0\n",
    "            \n",
    "            second_max_lang_length = np.max(language_lenths_arr)\n",
    "            second_max_lang_length_index = language_lenths_arr.argmax()\n",
    "            \n",
    "            if np.abs(first_max_lang_length - second_max_lang_length) <= 1:\n",
    "                return \"en\"\n",
    "            else:\n",
    "                return langu[first_max_lang_length_index]\n",
    "    # --------------------------------------------------------------------------------------------------------------\n",
    "    img_arr = cv2.imread(image_path)\n",
    "    boxes = paddle_dict['en'].ocr(img_arr, det=True, rec=False, cls=True, boxes_elapse=False) # only detection : There are 2 different model for detection; one of them inside the 'en' folder, the other one 'ch' folder. It's a general model for detection, so it's okey to use it. (no problem)\n",
    "    sorted_boxes = sorted(boxes, key=lambda x: (x[0][1], x[0][0])) # sorting boxes as in text format. QUESTION: how do you sort vertical or angled scripts? We didn't for the start. In the future problem will be solved (using detr is one of them). \n",
    "    boxes_arr = np.array(sorted_boxes, dtype=np.float32) # paddleocr accepts box formats as np.float32\n",
    "    boxes_elapse = boxes_arr, 0  # box and elapse time in tuple format, we detected texts above the boxes variable, therefore elapse = 0\n",
    "    for lang in langs:\n",
    "        # boxes elapse is the parameter placed inside the paddleocr, we can recognize it by sending a box from outside.\n",
    "        recog[lang] = paddle_dict[lang].ocr(img_arr, det=True, rec=True, cls=True, boxes_elapse=boxes_elapse)\n",
    "    \n",
    "    solution_dict = {}\n",
    "\n",
    "    for box in sorted_boxes:\n",
    "        solution_dict[str(box)] = dict() # solution_dict['[[x1, y1], [x2, y2], [x3, y3], [x4, y4]]'] = {}\n",
    "        for lang in langs:\n",
    "            solution_dict[str(box)][lang] = box_solution_equality(box, recog[lang]) # {}[box][lang] = (word, score)\n",
    "        \n",
    "    extracted_text = ' '\n",
    "\n",
    "    natural_lang = check_max_length_lang(recog) # The language that has maximum number of words.\n",
    "    print(f\"Natural lang : {natural_lang}\")\n",
    "    \n",
    "    for box in sorted_boxes:\n",
    "\n",
    "        # scores for every language in the corresponding box, for example : [english score, russian score, arabic score]\n",
    "        val = [solution_dict[str(box)][l][1] for l in langs if solution_dict[str(box)][l]]\n",
    "\n",
    "        if len(val): # if list is not empty, if empty it will return empty extracted_text = ''\n",
    "            arr_val = np.array(val)\n",
    "            arg_max0 = arr_val.argmax() # get argmax (index of the maximum value.)\n",
    "            max_value0 = val[arg_max0] # get that maximum value using argmax0\n",
    "            arr_val[arg_max0] = 0 # set the maximum value to 0, therefore we can find second maximum value's index\n",
    "            arg_max1 = arr_val.argmax() # if there is only one language, then next maximum value will be equal to 0, so that's okey.\n",
    "            max_value1 = val[arg_max1] # now take the second largest value\n",
    "\n",
    "            '''\n",
    "            Let's take an example. Assume true lang is English. It can be tha case that, due to distrortions, D can be seen as Д, a cyrillic letter. Then, one may have:\n",
    "            english prediction score = 0.92\n",
    "            russian prediction score = 0.96\n",
    "            According to the results, solution must be russian, but we know this is an english word.\n",
    "            If the two scores are very close to each other (say a probability of 0.3), take the language from natural language variable. If there is a\n",
    "            clear difference between the two scores then take the maximum one's language. {}[box][max lang]\n",
    "            so in the image that has 10 english and 2 russian words, it can also detects the russian ones.\n",
    "            '''\n",
    "            if natural_lang == None:\n",
    "                extracted_text += solution_dict[str(box)][langs[arg_max0]][0] + ' '\n",
    "            elif max_value0 - max_value1 > 0.25:\n",
    "                extracted_text += solution_dict[str(box)][langs[arg_max0]][0] + ' '\n",
    "            elif solution_dict[str(box)][langs[arg_max0]]:\n",
    "                extracted_text += solution_dict[str(box)][natural_lang][0] + ' '\n",
    "\n",
    "    return extracted_text.strip() # ignoring the spaces ' '"
   ]
  },
  {
   "cell_type": "code",
   "execution_count": 54,
   "id": "931109fc-4a49-4971-ae83-e43d97c5e31b",
   "metadata": {},
   "outputs": [],
   "source": [
    "img_pth_base = \"/home/sefa/Downloads/ocr-problem-update/\""
   ]
  },
  {
   "cell_type": "code",
   "execution_count": 55,
   "id": "c8a2633c-d7e7-4c1d-9665-e8141fea30e2",
   "metadata": {},
   "outputs": [
    {
     "name": "stdout",
     "output_type": "stream",
     "text": [
      "[2021/09/07 02:46:01] root DEBUG: dt_boxes num : 4, elapse : 0\n",
      "[2021/09/07 02:46:01] root DEBUG: cls num  : 4, elapse : 0.01679086685180664\n",
      "[2021/09/07 02:46:01] root DEBUG: rec_res num  : 4, elapse : 0.04561448097229004\n",
      "[2021/09/07 02:46:01] root DEBUG: dt_boxes num : 4, elapse : 0\n",
      "[2021/09/07 02:46:01] root DEBUG: cls num  : 4, elapse : 0.019659757614135742\n",
      "[2021/09/07 02:46:01] root DEBUG: rec_res num  : 4, elapse : 0.05081462860107422\n",
      "Natural lang : en\n"
     ]
    },
    {
     "data": {
      "text/plain": [
       "'Karides mi? Kalamar mi kil kya \"keyf .e bak\"'"
      ]
     },
     "execution_count": 55,
     "metadata": {},
     "output_type": "execute_result"
    }
   ],
   "source": [
    "img_path = \"f942e8626c9209d97dfc320d78faf31d7b94a9ab6ff7565c8b99af8cba410de69135fe04590bf1507d6a9dd716ea93b46c1d88b95131c58f60c8a9feaf6f42af.jpg\"\n",
    "img_full_path = img_pth_base + img_path\n",
    "read_from_image(img_full_path)"
   ]
  },
  {
   "cell_type": "code",
   "execution_count": 56,
   "id": "b0ab462f-0fa3-47d1-be11-542ef9be5b4b",
   "metadata": {},
   "outputs": [
    {
     "name": "stdout",
     "output_type": "stream",
     "text": [
      "[2021/09/07 02:46:01] root DEBUG: dt_boxes num : 4, elapse : 0\n",
      "[2021/09/07 02:46:01] root DEBUG: cls num  : 4, elapse : 0.01837325096130371\n",
      "[2021/09/07 02:46:01] root DEBUG: rec_res num  : 4, elapse : 0.05168008804321289\n",
      "[2021/09/07 02:46:01] root DEBUG: dt_boxes num : 4, elapse : 0\n",
      "[2021/09/07 02:46:01] root DEBUG: cls num  : 4, elapse : 0.018820524215698242\n",
      "[2021/09/07 02:46:01] root DEBUG: rec_res num  : 4, elapse : 0.05468606948852539\n",
      "Natural lang : en\n"
     ]
    },
    {
     "data": {
      "text/plain": [
       "'okulgDongs kiLikya keyfine bak\"'"
      ]
     },
     "execution_count": 56,
     "metadata": {},
     "output_type": "execute_result"
    }
   ],
   "source": [
    "img_path = \"f0bbd264ea8c916fc20b4b73bbadb0bd371eaced144db0a4e3cd32a0bf4a8c279f0d7e7509642c5641d4dbc178c90184436ec560cf4cfbba48c14942a0a684a3.jpg\"\n",
    "img_full_path = img_pth_base + img_path\n",
    "read_from_image(img_full_path)"
   ]
  },
  {
   "cell_type": "code",
   "execution_count": 57,
   "id": "0c085990-9bc6-4c23-a99c-faa06eb67dc3",
   "metadata": {},
   "outputs": [
    {
     "name": "stdout",
     "output_type": "stream",
     "text": [
      "[2021/09/07 02:46:01] root DEBUG: dt_boxes num : 17, elapse : 0\n",
      "[2021/09/07 02:46:02] root DEBUG: cls num  : 17, elapse : 0.07623028755187988\n",
      "[2021/09/07 02:46:02] root DEBUG: rec_res num  : 17, elapse : 0.21207571029663086\n",
      "[2021/09/07 02:46:02] root DEBUG: dt_boxes num : 17, elapse : 0\n",
      "[2021/09/07 02:46:02] root DEBUG: cls num  : 17, elapse : 0.0851292610168457\n",
      "[2021/09/07 02:46:02] root DEBUG: rec_res num  : 17, elapse : 0.20911002159118652\n",
      "Natural lang : en\n"
     ]
    },
    {
     "data": {
      "text/plain": [
       "'ODUL intel UNIVERSITY #4 700TL 1.250TL HAVUZU BIRIiNCILiK #5350TL 1.000TL #6 350TL IKINCILiK #7 250TL 850TL UCUNCOLOK #8 250TL  Oozan'"
      ]
     },
     "execution_count": 57,
     "metadata": {},
     "output_type": "execute_result"
    }
   ],
   "source": [
    "img_path = \"b855f4063180cda1fa9a41229c167a26731e4c648572aff255cfeeb1517ded999be2e46fffe218c3ec715c9a0bcd8bd39794c4e48104165d639a410a503e6b1d.png\"\n",
    "img_full_path = img_pth_base + img_path\n",
    "read_from_image(img_full_path)"
   ]
  },
  {
   "cell_type": "code",
   "execution_count": 58,
   "id": "6bd50e3d-9350-4228-a4ed-118f0acb05cc",
   "metadata": {},
   "outputs": [
    {
     "name": "stdout",
     "output_type": "stream",
     "text": [
      "[2021/09/07 02:46:02] root DEBUG: dt_boxes num : 14, elapse : 0\n",
      "[2021/09/07 02:46:02] root DEBUG: cls num  : 14, elapse : 0.08517694473266602\n",
      "[2021/09/07 02:46:03] root DEBUG: rec_res num  : 14, elapse : 0.25046253204345703\n",
      "[2021/09/07 02:46:03] root DEBUG: dt_boxes num : 14, elapse : 0\n",
      "[2021/09/07 02:46:03] root DEBUG: cls num  : 14, elapse : 0.07745909690856934\n",
      "[2021/09/07 02:46:03] root DEBUG: rec_res num  : 14, elapse : 0.2460954189300537\n",
      "Natural lang : ru\n"
     ]
    },
    {
     "data": {
      "text/plain": [
       "'71:35 0325. Введитекод ИбегБЗбб чтобы подтвердить свой номер 6931 привет от Uberl Bведите 829б чтобы подтвердить номер мобильного телефона Код подтверждения Ибег зЭУб Мом Б Type an SMS message SMS і'"
      ]
     },
     "execution_count": 58,
     "metadata": {},
     "output_type": "execute_result"
    }
   ],
   "source": [
    "img_path = \"jlvkto4khv0z.jpg\"\n",
    "img_full_path = img_pth_base + img_path\n",
    "read_from_image(img_full_path)"
   ]
  },
  {
   "cell_type": "code",
   "execution_count": null,
   "id": "12da55e8-26f8-44f3-9028-b089906f5ca7",
   "metadata": {},
   "outputs": [],
   "source": []
  }
 ],
 "metadata": {
  "kernelspec": {
   "display_name": "Python 3",
   "language": "python",
   "name": "python3"
  },
  "language_info": {
   "codemirror_mode": {
    "name": "ipython",
    "version": 3
   },
   "file_extension": ".py",
   "mimetype": "text/x-python",
   "name": "python",
   "nbconvert_exporter": "python",
   "pygments_lexer": "ipython3",
   "version": "3.6.13"
  }
 },
 "nbformat": 4,
 "nbformat_minor": 5
}
