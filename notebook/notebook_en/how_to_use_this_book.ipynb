{
 "cells": [
  {
   "cell_type": "markdown",
   "metadata": {
    "collapsed": false
   },
   "source": [
    "# 1. Course Preparation Knowledge\n",
    "\n",
    "The OCR model covered in this class is based on deep learning, so the basics, environment configuration, project engineering and other materials related to it will be introduced in this section, especially for readers who are not familiar with deep learning can check and learn the corresponding content.\n",
    "\n",
    "### 1.1 Pre-requisite knowledge\n",
    "\n",
    "Deep learning has evolved from neurons, perceptrons, and multilayer neural networks in machine learning, so understanding the basic machine learning algorithms is helpful for understanding and applying deep learning. The \"depth\" of deep learning is reflected in the use of a series of vector-based mathematical operations such as convolution and pooling in the processing of large amounts of information. If you lack the theoretical foundation for both, you can take Mr. Hongyi Li's [Linear Algebra](https://aistudio.baidu.com/aistudio/course/introduce/2063) and [Machine Learning](https://aistudio.baidu.com/aistudio/course/introduce/1978) courses.\n",
    "\n",
    "For the understanding of deep learning itself, you can refer to the zero-based course by Mr. Bi Ran, a distinguished architect at Baidu: [Baidu Architect Hands-on with Zero-Based Practice Deep Learning](https://aistudio.baidu.com/aistudio/course/introduce/1297), which covers the development history of deep learning. It is a practice-oriented deep learning course that introduces the complete components of deep learning through a classic case.\n",
    "\n",
    "For the practice of theoretical knowledge, [Python Basics](https://aistudio.baidu.com/aistudio/course/introduce/1224) is essential. Also, to quickly reproduce the deep learning model, the deep learning framework used in this course is: Flying PaddlePaddle. If you have already used other frameworks, the [Quick Start Document](https://www.paddlepaddle.org.cn/documentation/docs/zh/practices/quick_start/hello_paddle.html) allows you to quickly understand the use of the flying paddle method.\n",
    "\n",
    "### 1.2 Basic Environment Preparation\n",
    "\n",
    "If you want to run the code of this course in your local environment and have not built a Python environment before, you can follow the [Zero-Based Runtime Environment Preparation](https://github.com/PaddlePaddle/PaddleOCR/blob/release/2.3/doc/doc_ch/environment.md) and install Anaconda or docker environment according to your operating system.\n",
    "\n",
    "If you do not have local resources, you can complete the code run through the AI Studio hands-on training platform, in which each project is presented through a Notebook for developers to learn. If you are not familiar with Notebook-related operations, you can refer to [AI Studio Project Description](https://ai.baidu.com/ai-doc/AISTUDIO/0k3e2tfzm).\n",
    "\n",
    "### 1.3 Get and Run Code\n",
    "\n",
    "This course is formed by relying on PaddleOCR's code base. First, cloning PaddleOCR's complete project.\n",
    "\n",
    "```bash\n",
    "#【Recommendation】\n",
    "git clone https://github.com/PaddlePaddle/PaddleOCR\n",
    "\n",
    "# If you cannot pull successfully due to network problems, you can also choose to use the hosting on the Gitee.com at\n",
    "git clone https://gitee.com/paddlepaddle/PaddleOCR\n",
    "```\n",
    "\n",
    "> Note: Gitee hosting code may not be synchronized with this github project updates in real time, there is a 3~5 days delay, please use the recommended way in preference.\n",
    ">\n",
    "> ​\t\tIf you are not familiar with git, you can download the archive directly from the `Code` section of the PaddleOCR home page.\n",
    "\n",
    "Then install libraries ：\n",
    "\n",
    "```\n",
    "cd PaddleOCR\n",
    "pip3 install -r requirements.txt\n",
    "```\n",
    "\n",
    "\n",
    " \n",
    "### 1.4 Check Information\n",
    "\n",
    "How to use PaddleOCR for model application, training and deployment is described in detail in [PaddleOCR Help Documentation](https://github.com/PaddlePaddle/PaddleOCR/blob/release/2.4/README.md). The documentation is rich, and most user questions are described in the documentation or FAQ, especially in [FAQ](https://github.com/PaddlePaddle/PaddleOCR/blob/release/2.4/doc/doc_en/FAQ_en.md), which follows the deep learning application The process has precipitated frequently asked questions from users, and we recommend you to read them carefully.\n",
    "\n",
    "### 1.5 Seek Help\n",
    "\n",
    "If you encounter bugs, ease of use or documentation-related issues while using PaddleOCR, you can contact the official via [Github issue](https://github.com/PaddlePaddle/PaddleOCR/issues), please follow the issue template to provide as much information as possible to Please follow the issue template to provide as much information as possible so that the official staff can locate the problem quickly. Meanwhile, the WeChat group is a daily communication forum for PaddleOCR users, and it is more suitable for asking some consulting questions.\n"
   ]
  }
 ],
 "metadata": {
  "kernelspec": {
   "display_name": "Python 3",
   "language": "python",
   "name": "py35-paddle1.2.0"
  },
  "language_info": {
   "codemirror_mode": {
    "name": "ipython",
    "version": 3
   },
   "file_extension": ".py",
   "mimetype": "text/x-python",
   "name": "python",
   "nbconvert_exporter": "python",
   "pygments_lexer": "ipython3",
   "version": "3.7.4"
  }
 },
 "nbformat": 4,
 "nbformat_minor": 1
}
